{
  "nbformat": 4,
  "nbformat_minor": 0,
  "metadata": {
    "colab": {
      "name": "dvdv__1a__Hessian__Exact__Sine.ipynb",
      "provenance": [],
      "collapsed_sections": []
    },
    "kernelspec": {
      "name": "python3",
      "display_name": "Python 3"
    }
  },
  "cells": [
    {
      "cell_type": "code",
      "metadata": {
        "colab": {
          "base_uri": "https://localhost:8080/"
        },
        "id": "xfcpTlj44HRE",
        "outputId": "b73232c1-87d2-4702-e79e-cdab67362751"
      },
      "source": [
        "!pip install pyGPGO"
      ],
      "execution_count": 1,
      "outputs": [
        {
          "output_type": "stream",
          "text": [
            "Collecting pyGPGO\n",
            "  Downloading https://files.pythonhosted.org/packages/8d/87/a113c91ba014708114f7635d5c0f6a5e5c773480c5f0a537b257a02d180d/pyGPGO-0.4.0.dev1.tar.gz\n",
            "Requirement already satisfied: numpy in /usr/local/lib/python3.6/dist-packages (from pyGPGO) (1.19.5)\n",
            "Requirement already satisfied: scipy in /usr/local/lib/python3.6/dist-packages (from pyGPGO) (1.4.1)\n",
            "Requirement already satisfied: joblib in /usr/local/lib/python3.6/dist-packages (from pyGPGO) (1.0.0)\n",
            "Requirement already satisfied: scikit-learn in /usr/local/lib/python3.6/dist-packages (from pyGPGO) (0.22.2.post1)\n",
            "Requirement already satisfied: theano in /usr/local/lib/python3.6/dist-packages (from pyGPGO) (1.0.5)\n",
            "Requirement already satisfied: pyMC3 in /usr/local/lib/python3.6/dist-packages (from pyGPGO) (3.7)\n",
            "Requirement already satisfied: six>=1.9.0 in /usr/local/lib/python3.6/dist-packages (from theano->pyGPGO) (1.15.0)\n",
            "Requirement already satisfied: patsy>=0.4.0 in /usr/local/lib/python3.6/dist-packages (from pyMC3->pyGPGO) (0.5.1)\n",
            "Requirement already satisfied: pandas>=0.18.0 in /usr/local/lib/python3.6/dist-packages (from pyMC3->pyGPGO) (1.1.5)\n",
            "Requirement already satisfied: tqdm>=4.8.4 in /usr/local/lib/python3.6/dist-packages (from pyMC3->pyGPGO) (4.41.1)\n",
            "Requirement already satisfied: h5py>=2.7.0 in /usr/local/lib/python3.6/dist-packages (from pyMC3->pyGPGO) (2.10.0)\n",
            "Requirement already satisfied: python-dateutil>=2.7.3 in /usr/local/lib/python3.6/dist-packages (from pandas>=0.18.0->pyMC3->pyGPGO) (2.8.1)\n",
            "Requirement already satisfied: pytz>=2017.2 in /usr/local/lib/python3.6/dist-packages (from pandas>=0.18.0->pyMC3->pyGPGO) (2018.9)\n",
            "Building wheels for collected packages: pyGPGO\n",
            "  Building wheel for pyGPGO (setup.py) ... \u001b[?25l\u001b[?25hdone\n",
            "  Created wheel for pyGPGO: filename=pyGPGO-0.4.0.dev1-cp36-none-any.whl size=19867 sha256=c1303c137bf8f528273ef3cf5247f00bd7a2f63f14b3e40878eef268be369b81\n",
            "  Stored in directory: /root/.cache/pip/wheels/d1/27/04/c4fa3bfe194d36e3cd51542132f43415a6813114a5e8301acb\n",
            "Successfully built pyGPGO\n",
            "Installing collected packages: pyGPGO\n",
            "Successfully installed pyGPGO-0.4.0.dev1\n"
          ],
          "name": "stdout"
        }
      ]
    },
    {
      "cell_type": "code",
      "metadata": {
        "id": "o9WwUpis3kHm"
      },
      "source": [
        "### Import modules:\r\n",
        "\r\n",
        "import numpy as np\r\n",
        "import scipy as sp\r\n",
        "import pandas as pd\r\n",
        "import matplotlib.pyplot as plt\r\n",
        "import warnings\r\n",
        "\r\n",
        "from pyGPGO.logger import EventLogger\r\n",
        "from pyGPGO.GPGO import GPGO\r\n",
        "from pyGPGO.surrogates.GaussianProcess import GaussianProcess\r\n",
        "from pyGPGO.acquisition import Acquisition\r\n",
        "from pyGPGO.covfunc import squaredExponential\r\n",
        "\r\n",
        "from collections import OrderedDict\r\n",
        "from joblib import Parallel, delayed\r\n",
        "from numpy.linalg import slogdet, inv, cholesky, solve\r\n",
        "from scipy.optimize import minimize\r\n",
        "from scipy.spatial.distance import cdist\r\n",
        "from scipy.special import gamma\r\n",
        "from scipy.stats import norm, t\r\n",
        "from matplotlib.pyplot import rc\r\n",
        "from mpl_toolkits.axes_grid1.inset_locator import inset_axes, mark_inset\r\n",
        "\r\n",
        "warnings.filterwarnings(\"ignore\", category=RuntimeWarning)"
      ],
      "execution_count": 2,
      "outputs": []
    },
    {
      "cell_type": "code",
      "metadata": {
        "id": "Xb3X60NsRoa0"
      },
      "source": [
        "n_start_AcqFunc = 629 #multi-start iterations to avoid local optima in AcqFunc optimization"
      ],
      "execution_count": 3,
      "outputs": []
    },
    {
      "cell_type": "code",
      "metadata": {
        "id": "ZP3aj88vQppJ"
      },
      "source": [
        "### Data inputs:\r\n",
        "set_seed = 888 #initialise pseudo-random number generator, same start-point each time.\r\n",
        "\r\n",
        "### Acquisition / Utility function - MLE/Type II:\r\n",
        "d_util = 'dEI_GP'\r\n",
        "\r\n",
        "n_test = n_start_AcqFunc\r\n",
        "opt=False"
      ],
      "execution_count": 4,
      "outputs": []
    },
    {
      "cell_type": "code",
      "metadata": {
        "id": "Kw4wzT3I4vlE"
      },
      "source": [
        "### Objective Function - Sin(x) 1-D:\r\n",
        "\r\n",
        "eps = 1e-8\r\n",
        "\r\n",
        "def f_sine(x1_training):\r\n",
        "    return operator * np.sin(x1_training)\r\n",
        "        \r\n",
        "def f_sine_eps(x1_training):\r\n",
        "    return operator * np.sin(x1_training + eps)\r\n",
        "\r\n",
        "# Constraints:\r\n",
        "lb = 0\r\n",
        "ub = 2 * np.pi\r\n",
        "    \r\n",
        "# Input array dimension(s):\r\n",
        "dim = 1\r\n",
        "\r\n",
        "# 1-D inputs' parameter bounds:\r\n",
        "param = {'x1_training': ('cont', [lb, ub])}\r\n",
        "    \r\n",
        "# True y bounds:\r\n",
        "y_lb = 1 # targets global maximum \r\n",
        "operator = 1 # targets global maximum \r\n",
        "y_global_orig = y_lb * operator # targets global maximum\r\n",
        "    \r\n",
        "# Test data:\r\n",
        "x1_test = np.linspace(lb, ub, n_test)"
      ],
      "execution_count": 5,
      "outputs": []
    },
    {
      "cell_type": "code",
      "metadata": {
        "id": "6gkK0WAn4zE0"
      },
      "source": [
        "### Derivatives - Squared-exponential covariance function:\r\n",
        "\r\n",
        "def l2norm_(X, Xstar):\r\n",
        "    \r\n",
        "    return cdist(X, Xstar)\r\n",
        "\r\n",
        "def kronDelta(X, Xstar):\r\n",
        "\r\n",
        "    return cdist(X, Xstar) < np.finfo(np.float32).eps\r\n",
        "\r\n",
        "class squaredExponentialDeriv(squaredExponential):\r\n",
        "    l = 1\r\n",
        "    sigmaf = 1e-4\r\n",
        "    sigman = 1e-6\r\n",
        "\r\n",
        "    def K(self, X, Xstar):\r\n",
        "        \r\n",
        "        r = (l2norm_(X, Xstar)/self.l)\r\n",
        "        K = self.sigmaf * np.exp(-1/2*r **2) + self.sigman * kronDelta(X, Xstar)\r\n",
        "        return K\r\n",
        "    \r\n",
        "    def dK(self, X, Xstar):\r\n",
        "        \r\n",
        "        r = (l2norm_(X, Xstar)/self.l)\r\n",
        "        dK = self.sigmaf/self.l**2 * np.exp(-1/2 * r **2) * l2norm_(X, Xstar)\r\n",
        "        return dK\r\n",
        "    \r\n",
        "    def d2K(self, X, Xstar):\r\n",
        "        \r\n",
        "        r = (l2norm_(X, Xstar)/self.l)\r\n",
        "        d2K = self.sigmaf/self.l**2 * np.exp(-1/2 * r **2) * (r **2 - 1)\r\n",
        "        return d2K\r\n",
        "    \r\n",
        "cov_func = squaredExponential()\r\n",
        "cov_func_hess = squaredExponentialDeriv()"
      ],
      "execution_count": 6,
      "outputs": []
    },
    {
      "cell_type": "code",
      "metadata": {
        "id": "aVkI7OoO5K7U"
      },
      "source": [
        "### Cumulative Regret Calculator:\r\n",
        "\r\n",
        "def min_max_array(x):\r\n",
        "    new_list = []\r\n",
        "    for i, num in enumerate(x):\r\n",
        "            new_list.append(np.min(x[0:i+1]))\r\n",
        "    return new_list"
      ],
      "execution_count": 7,
      "outputs": []
    },
    {
      "cell_type": "code",
      "metadata": {
        "id": "4-O_7SOE5M2U"
      },
      "source": [
        "class Acquisition_new(Acquisition):    \r\n",
        "    def __init__(self, mode, eps=1e-08, **params):\r\n",
        "        \r\n",
        "        self.params = params\r\n",
        "        self.eps = eps\r\n",
        "\r\n",
        "        mode_dict = {\r\n",
        "            'dEI_GP': self.dEI_GP\r\n",
        "        }\r\n",
        "\r\n",
        "        self.f = mode_dict[mode]\r\n",
        "    \r\n",
        "    def dEI_GP(self, tau, mean, std, ds, dm, dvdv, d2v, d2m):\r\n",
        "        z = -1 * (tau - mean - self.eps) / (std + self.eps)\r\n",
        "        \r\n",
        "        dsdx = ds / 2 * (std + self.eps)\r\n",
        "        d2sdx = -dsdx**2 / ((std + self.eps)) - dvdv / (std + self.eps) - d2v / (std + self.eps)\r\n",
        "        dmdx = (dm - z * dsdx) / (std + self.eps)\r\n",
        "        d2mdx = (d2m - (z * d2sdx + 2 * dmdx * dsdx)) / (std + self.eps)\r\n",
        "        \r\n",
        "        f = (std + self.eps) * (z * norm.cdf(z) + norm.pdf(z)[0])\r\n",
        "        df = (f / (std + self.eps) * dsdx + (std + self.eps) * norm.cdf(z) * dmdx)\r\n",
        "        d2f = (f / (std + self.eps) * d2sdx + dsdx * dmdx * norm.cdf(z) \\\r\n",
        "            + d2mdx * (std + self.eps) * norm.cdf(z) + dsdx * norm.cdf(z) * dmdx \\\r\n",
        "            + norm.pdf(z)[0] * (std + self.eps) * dmdx)\r\n",
        "            \r\n",
        "        return f, df, d2f\r\n",
        "    \r\n",
        "    def _eval(self, tau, mean, std):\r\n",
        "    \r\n",
        "        return self.f(tau, mean, std, **self.params)\r\n",
        "    \r\n",
        "    def d_eval(self, tau, mean, std, ds, dm, dvdv, d2v, d2m):\r\n",
        "    \r\n",
        "        return self.f(tau, mean, std, ds, dm, dvdv, d2v, d2m, **self.params)"
      ],
      "execution_count": 8,
      "outputs": []
    },
    {
      "cell_type": "code",
      "metadata": {
        "id": "IwQq5d2E5QGU"
      },
      "source": [
        "### Surrogate derivatives: \r\n",
        "\r\n",
        "from scipy.linalg import cholesky, solve\r\n",
        "\r\n",
        "class dGaussianProcess(GaussianProcess):\r\n",
        "    l = 1\r\n",
        "    sigmaf = 1e-4\r\n",
        "    sigman = 1e-6\r\n",
        "\r\n",
        "    def AcqGrad(self, Xstar, return_std=False):\r\n",
        "        r_X = l2norm_(self.X, self.X)/self.l\r\n",
        "        K = self.sigmaf * np.exp(-1/2*r_X **2) + self.sigman * kronDelta(self.X, self.X)\r\n",
        "        L = cholesky(K).T\r\n",
        "        alpha = solve(L.T, solve(L, self.y))\r\n",
        "        Xstar = np.atleast_2d(Xstar)\r\n",
        "        Kstar = squaredExponentialDeriv.K(self, self.X, Xstar).T\r\n",
        "        dKstar = squaredExponentialDeriv.dK(self, self.X, Xstar).T\r\n",
        "        d2Kstar = squaredExponentialDeriv.d2K(self, self.X, Xstar).T\r\n",
        "        v = solve(self.L, Kstar.T)\r\n",
        "        dv = solve(self.L, dKstar.T)\r\n",
        "        d2v = solve(self.L, d2Kstar.T)\r\n",
        "        \r\n",
        "        ds = -2 * np.dot(dv.T, v)\r\n",
        "        dvdv = np.dot(dv.T, dv)\r\n",
        "        d2s = -2 * (dvdv + d2v)\r\n",
        "        \r\n",
        "        dm = np.dot(dKstar, alpha)\r\n",
        "        d2m = np.dot(d2Kstar, alpha)\r\n",
        "        return ds, dm, dvdv, d2v, d2m"
      ],
      "execution_count": 9,
      "outputs": []
    },
    {
      "cell_type": "code",
      "metadata": {
        "id": "5oW9vYUdCqkS"
      },
      "source": [
        "class dGPGO(GPGO):  \r\n",
        "    n_start = n_start_AcqFunc\r\n",
        "    eps = 1e-08\r\n",
        "        \r\n",
        "    def func(self, xnew):\r\n",
        "        new_mean, new_var = self.GP.predict(xnew, return_std=True)\r\n",
        "        new_std = np.sqrt(new_var + 1e-6)\r\n",
        "        ds, dm, dvdv, d2v, d2m = self.GP.AcqGrad(xnew, return_std=True)\r\n",
        "        f  = np.empty((self.n_start,))\r\n",
        "        df = np.empty((self.n_start,))\r\n",
        "        f  = -self.A.d_eval(self.tau, new_mean, new_std, ds=ds, dm=dm, dvdv=dvdv, d2v=d2v, d2m=d2m)[0]\r\n",
        "        df = -self.A.d_eval(self.tau, new_mean, new_std, ds=ds, dm=dm, dvdv=dvdv, d2v=d2v, d2m=d2m)[1]\r\n",
        "        df_array = np.full((len(xnew),),df)\r\n",
        "        return f, df_array\r\n",
        "        \r\n",
        "    def d_optimizeAcq(self, method='L-BFGS-B', n_start=n_start):\r\n",
        "        start_points_dict = [self._sampleParam() for i in range(n_start)]\r\n",
        "        start_points_arr = np.array([list(s.values())\r\n",
        "                                     for s in start_points_dict])\r\n",
        "        x_best = np.empty((n_start, len(self.parameter_key)))\r\n",
        "        f_best = np.empty((n_start,))\r\n",
        "        opt = Parallel(n_jobs=self.n_jobs)(delayed(minimize)(self.func,\r\n",
        "                                                                 x0=start_point,\r\n",
        "                                                                 method=method,\r\n",
        "                                                                 jac = True,\r\n",
        "                                                                 bounds=self.parameter_range) for start_point in\r\n",
        "                                               start_points_arr)\r\n",
        "        x_best = np.array([res.x for res in opt])\r\n",
        "        f_best = np.array([np.atleast_1d(res.fun)[0] for res in opt])\r\n",
        "\r\n",
        "        self.x_best = x_best\r\n",
        "        self.f_best = f_best\r\n",
        "        self.best = x_best[np.argmin(f_best)]\r\n",
        "    \r\n",
        "    def run(self, max_iter=10, init_evals=3, resume=False):\r\n",
        "        \r\n",
        "        if not resume:\r\n",
        "            self.init_evals = init_evals\r\n",
        "            self._firstRun(self.init_evals)\r\n",
        "            self.logger._printInit(self)\r\n",
        "        for iteration in range(max_iter):\r\n",
        "            self.d_optimizeAcq()\r\n",
        "            self.updateGP()\r\n",
        "            self.logger._printCurrent(self)"
      ],
      "execution_count": 10,
      "outputs": []
    },
    {
      "cell_type": "code",
      "metadata": {
        "id": "BZt_3hbr5Stc"
      },
      "source": [
        "### d2GPGO - BayesOpt class: Exact Hessian\r\n",
        "\r\n",
        "class d2GPGO(GPGO):  \r\n",
        "    n_start = n_start_AcqFunc\r\n",
        "    p = np.full((n_start,1),1)*0 + 1\r\n",
        "    eps = 1e-08\r\n",
        "    \r\n",
        "    def func(self, xnew):\r\n",
        "        new_mean, new_var = self.GP.predict(xnew, return_std=True)\r\n",
        "        new_std = np.sqrt(new_var + 1e-6)\r\n",
        "        ds, dm, dvdv, d2v, d2m = self.GP.AcqGrad(xnew, return_std=True)\r\n",
        "        f  = np.empty((self.n_start,))\r\n",
        "        df = np.empty((self.n_start,))\r\n",
        "        f  = -self.A.d_eval(self.tau, new_mean, new_std, ds=ds, dm=dm, dvdv=dvdv, d2v=d2v, d2m=d2m)[0]\r\n",
        "        df = -self.A.d_eval(self.tau, new_mean, new_std, ds=ds, dm=dm, dvdv=dvdv, d2v=d2v, d2m=d2m)[1]\r\n",
        "        df_array = np.full((len(xnew),),df)\r\n",
        "        return f, df_array\r\n",
        "    \r\n",
        "    def hessp_nonzero(self, xnew, p):\r\n",
        "        new_mean, new_var = self.GP.predict(xnew, return_std=True)\r\n",
        "        new_std = np.sqrt(new_var + 1e-6)\r\n",
        "        ds, dm, dvdv, d2v, d2m = self.GP.AcqGrad(xnew, return_std=True)\r\n",
        "        df2 = np.empty((self.n_start,))\r\n",
        "        df2 = -self.A.d_eval(self.tau, new_mean, new_std, ds=ds, dm=dm, dvdv=dvdv, d2v=d2v, d2m=d2m)[2]\r\n",
        "        H2 = np.empty((self.n_start,))\r\n",
        "        df2 = np.asarray(df2)\r\n",
        "        p = np.asarray(p)\r\n",
        "        H2 = np.multiply(df2,p)\r\n",
        "        return H2\r\n",
        "\r\n",
        "    def dEI_GP(self, tau, mean, std, ds, dm, dvdv, d2v, d2m):\r\n",
        "        z = -1 * (tau - mean - self.eps) / (std + self.eps)\r\n",
        "        \r\n",
        "        dsdx = ds / 2 * (std + self.eps)\r\n",
        "        d2sdx = -dsdx**2 / ((std + self.eps)) - dvdv / (std + self.eps) - d2v / (std + self.eps)\r\n",
        "        dmdx = (dm - z * dsdx) / (std + self.eps)\r\n",
        "        d2mdx = (d2m - (z * d2sdx + 2 * dmdx * dsdx)) / (std + self.eps)\r\n",
        "        \r\n",
        "        d2f = (z * norm.cdf(z) + norm.pdf(z)[0]) * d2sdx + dsdx * dmdx * norm.cdf(z) \\\r\n",
        "            + d2mdx * (std + self.eps) * norm.cdf(z) + dsdx * norm.cdf(z) * dmdx \\\r\n",
        "            + norm.pdf(z)[0] * (std + self.eps) * dmdx\r\n",
        "\r\n",
        "        return d2f\r\n",
        "\r\n",
        "    def hessp_nonzero1(self, xnew, p, *args):\r\n",
        "      new_mean, new_var = self.GP.predict(xnew, return_std=True)\r\n",
        "      new_std = np.sqrt(new_var + 1e-6)\r\n",
        "      ds, dm, dvdv, d2v, d2m = self.GP.AcqGrad(xnew, return_std=True)\r\n",
        "      df2 = np.empty((self.n_start,))\r\n",
        "      df2 = -self.dEI_GP(self.tau, new_mean, new_std, ds=ds, dm=dm, dvdv=dvdv, d2v=d2v, d2m=d2m)[0] * p\r\n",
        "      return df2\r\n",
        "\r\n",
        "    def d_optimizeAcq(self, method='Newton-CG', n_start=n_start):\r\n",
        "        start_points_dict = [self._sampleParam() for i in range(n_start)]\r\n",
        "        start_points_arr = np.array([list(s.values())\r\n",
        "                                     for s in start_points_dict])\r\n",
        "        x_best = np.empty((n_start, len(self.parameter_key)))\r\n",
        "        f_best = np.empty((n_start,))\r\n",
        "        opt = Parallel(n_jobs=self.n_jobs)(delayed(minimize)(self.func,\r\n",
        "                                                                 x0=start_point,\r\n",
        "                                                                 method=method,\r\n",
        "                                                                 jac = True,                  \r\n",
        "                                                                 hessp = self.hessp_nonzero1,                      \r\n",
        "                                                                 bounds=self.parameter_range) for start_point in\r\n",
        "                                               start_points_arr)\r\n",
        "        \r\n",
        "        x_best = np.array([res.x for res in opt])\r\n",
        "        f_best = np.array([np.atleast_1d(res.fun)[0] for res in opt])\r\n",
        "\r\n",
        "        self.x_best = x_best\r\n",
        "        self.f_best = f_best\r\n",
        "        self.best = x_best[np.argmin(f_best)]\r\n",
        "\r\n",
        "    def run(self, max_iter=10, init_evals=3, resume=False):    \r\n",
        "        if not resume:\r\n",
        "            self.init_evals = init_evals\r\n",
        "            self._firstRun(self.init_evals)\r\n",
        "            self.logger._printInit(self)\r\n",
        "        for iteration in range(max_iter):\r\n",
        "            self.d_optimizeAcq()\r\n",
        "            self.updateGP()\r\n",
        "            self.logger._printCurrent(self)"
      ],
      "execution_count": 11,
      "outputs": []
    },
    {
      "cell_type": "code",
      "metadata": {
        "id": "DOWaxueg4DK8"
      },
      "source": [
        "n_init = 5  # Number of iterations used to initialise Bayesian optimisation; minimum 2"
      ],
      "execution_count": 12,
      "outputs": []
    },
    {
      "cell_type": "code",
      "metadata": {
        "colab": {
          "base_uri": "https://localhost:8080/"
        },
        "id": "1SubBoYjVz8Z",
        "outputId": "84e9d667-91e7-48aa-a33d-bf478ff0af1e"
      },
      "source": [
        "np.random.seed(set_seed)\r\n",
        "\r\n",
        "gp_lbfgsb = dGaussianProcess(cov_func_hess, optimize=opt)\r\n",
        "gpgo_lbfgsb = dGPGO(gp_lbfgsb, Acquisition_new(d_util), f_sine, param)\r\n",
        "gpgo_lbfgsb.run(init_evals=n_init, max_iter=0)"
      ],
      "execution_count": 13,
      "outputs": [
        {
          "output_type": "stream",
          "text": [
            "Evaluation \t Proposed point \t  Current eval. \t Best eval.\n",
            "init   \t [5.40077857]. \t  -0.7722701001578773 \t 0.8593619530727911\n",
            "init   \t [1.03402064]. \t  0.8593619530727911 \t 0.8593619530727911\n",
            "init   \t [3.03776904]. \t  0.103637186120003 \t 0.8593619530727911\n",
            "init   \t [5.78698499]. \t  -0.4760875534527427 \t 0.8593619530727911\n",
            "init   \t [2.69269954]. \t  0.4339685793492214 \t 0.8593619530727911\n"
          ],
          "name": "stdout"
        }
      ]
    },
    {
      "cell_type": "code",
      "metadata": {
        "colab": {
          "base_uri": "https://localhost:8080/"
        },
        "id": "DDrhAOgvWBGP",
        "outputId": "7578ecc6-5bda-4018-b566-93e2cb844750"
      },
      "source": [
        "np.random.seed(set_seed)\r\n",
        "\r\n",
        "gp_ncg = dGaussianProcess(cov_func_hess, optimize=opt)\r\n",
        "gpgo_ncg = d2GPGO(gp_ncg, Acquisition_new(d_util), f_sine, param)\r\n",
        "gpgo_ncg.run(init_evals=n_init, max_iter=0)"
      ],
      "execution_count": 14,
      "outputs": [
        {
          "output_type": "stream",
          "text": [
            "Evaluation \t Proposed point \t  Current eval. \t Best eval.\n",
            "init   \t [5.40077857]. \t  -0.7722701001578773 \t 0.8593619530727911\n",
            "init   \t [1.03402064]. \t  0.8593619530727911 \t 0.8593619530727911\n",
            "init   \t [3.03776904]. \t  0.103637186120003 \t 0.8593619530727911\n",
            "init   \t [5.78698499]. \t  -0.4760875534527427 \t 0.8593619530727911\n",
            "init   \t [2.69269954]. \t  0.4339685793492214 \t 0.8593619530727911\n"
          ],
          "name": "stdout"
        }
      ]
    },
    {
      "cell_type": "code",
      "metadata": {
        "colab": {
          "base_uri": "https://localhost:8080/",
          "height": 350
        },
        "id": "DJDCKmCU61fn",
        "outputId": "f2562ad0-b9c6-466f-d231-72d884524d56"
      },
      "source": [
        "def plot_sine(gpgo, param, new=True):\r\n",
        "    x_test = np.linspace(lb, ub, n_test).reshape((n_test, 1))\r\n",
        "    y_hat, y_var = gpgo.GP.predict(x_test, return_std=True)\r\n",
        "    std = np.sqrt(y_var)\r\n",
        "    l, u = y_hat - 1.96 * std, y_hat + 1.96 * std # z-score, 95% confidence (two-tail)\r\n",
        "    colours = ['Post', 'Random']\r\n",
        "    if new:\r\n",
        "        plt.figure(figsize=[7,5])\r\n",
        "        plt.scatter(gpgo.GP.X, gpgo.GP.y, marker ='D', color = 'Orange')\r\n",
        "        plt.scatter(gpgo.X, gpgo.y, marker ='D', color = 'Green', label='Random-initialization ($\\mathbf{x}$, $y$)')\r\n",
        "        plt.ylim(-2,2)\r\n",
        "        plt.xlim(0,2 * np.pi)\r\n",
        "        plt.plot(x_test.flatten(), y_hat, color = 'Yellow', label='$\\hat{\\mu}_{GP}(\\mathbf{x})$')\r\n",
        "        plt.plot(x_test.flatten(), np.sin(x_test.flatten()), color = 'Orange', label='True function: y = sin($\\mathbf{x}$)')\r\n",
        "        plt.fill_between(x_test.flatten(), l, u, alpha=0.2, label='95% C.I. for $\\mu_{GP}(\\mathbf{x})$')\r\n",
        "        title = 'Sine'\r\n",
        "        plt.title(title, weight = 'bold')\r\n",
        "        plt.xlabel(\"$\\mathbf{x}$\")\r\n",
        "        plt.ylabel(\"sin($\\mathbf{x}$)\")\r\n",
        "        plt.legend(loc=0)\r\n",
        "        plt.show()\r\n",
        "\r\n",
        "plot_sine(gpgo_ncg, param, new=True)"
      ],
      "execution_count": 15,
      "outputs": [
        {
          "output_type": "display_data",
          "data": {
            "image/png": "[encoded data removed]",
            "text/plain": [
              "<Figure size 504x360 with 1 Axes>"
            ]
          },
          "metadata": {
            "tags": [],
            "needs_background": "light"
          }
        }
      ]
    },
    {
      "cell_type": "code",
      "metadata": {
        "colab": {
          "base_uri": "https://localhost:8080/",
          "height": 370
        },
        "id": "TJwkXzN9AexL",
        "outputId": "2e213954-d3f7-48c7-c837-fe667baec987"
      },
      "source": [
        "def plot_dGPGO(gpgo, param, new):\r\n",
        "    fig, ax = plt.subplots(figsize=[7,5])\r\n",
        "    x_test = np.linspace(lb, ub, n_test).reshape((n_test, 1))\r\n",
        "    a = np.array([-gpgo_ncg.func(np.atleast_1d(x))[0] for x in x_test]).flatten()\r\n",
        "    plt.plot(x_test, a, color='r', label='GP EI$(\\mathbf{x})$: Newton-CG with GP d$^{2}$EI')\r\n",
        "    plt.ylim(0, 0.185)\r\n",
        "    plt.xlim(0, 2 * np.pi)\r\n",
        "    plt.axvline(1.6507732807935616, color='g', label='$\\mathbf{x}$: L-BFGS-B without Hessian')\r\n",
        "    plt.axvline(1.6349952753542698, color='b', label='$\\mathbf{x}$: Newton-CG with GP d$^{2}$EI')\r\n",
        "    plt.legend(loc=0)\r\n",
        "    plt.xlabel(\"$\\mathbf{x}$\")\r\n",
        "    plt.ylabel(\"GP EI$(\\mathbf{x})$\")\r\n",
        "    title = 'GP EI'\r\n",
        "    plt.suptitle(title, weight = 'bold')\r\n",
        "\r\n",
        "    axins = inset_axes(ax, 2, 2, loc=7, bbox_to_anchor=(0.9, 0.45),bbox_transform=ax.figure.transFigure) # no zoom\r\n",
        "    axins.plot(x_test[0:], a[0:], color='r', label='GP EI$(\\mathbf{x})$: excl. Hessian')\r\n",
        "    axins.set_ylim(0.174, 0.175)\r\n",
        "    axins.set_xlim(1.63, 1.66) # Limit the region for zoom\r\n",
        "    plt.xlabel(\"$\\mathbf{x}$\")\r\n",
        "    plt.ylabel(\"GP EI$(\\mathbf{x})$\")\r\n",
        "    axins.set_autoscaley_on(True)\r\n",
        "    plt.axvline(1.6507732807935613, color='g', label='$\\mathbf{x}$: L-BFGS-B without Hessian')\r\n",
        "    plt.axvline(1.6349952753542698, color='b', label='$\\mathbf{x}$: Newton-CG with GP d$^{2}$EI')\r\n",
        "    mark_inset(ax, axins, loc1=3, loc2=4, fc=\"none\", ec=\"0.9\")\r\n",
        "    plt.draw()\r\n",
        "    plt.show()\r\n",
        "\r\n",
        "plot_dGPGO(gpgo_ncg, param, new=True)"
      ],
      "execution_count": 16,
      "outputs": [
        {
          "output_type": "display_data",
          "data": {
            "image/png": "[encoded data removed]",
            "text/plain": [
              "<Figure size 504x360 with 2 Axes>"
            ]
          },
          "metadata": {
            "tags": [],
            "needs_background": "light"
          }
        }
      ]
    },
    {
      "cell_type": "code",
      "metadata": {
        "colab": {
          "base_uri": "https://localhost:8080/",
          "height": 387
        },
        "id": "MkvwnInvScLw",
        "outputId": "8083f311-1f3b-465e-ef1e-c302c3b828fa"
      },
      "source": [
        "def plot_jacobian(gpgo_ncg, param, new):\r\n",
        "    plt.figure(figsize=[7,5])\r\n",
        "    x_test = np.linspace(lb, ub, n_test).reshape((n_test, 1))\r\n",
        "    jac = np.array([-gpgo_ncg.func(np.atleast_1d(x))[1] for x in x_test]).flatten()\r\n",
        "    hess = np.array([-gpgo_ncg.hessp_nonzero(np.atleast_1d(x), p=1)[0] for x in x_test]).flatten()\r\n",
        "    plt.plot(x_test, jac, color='r', label='GP dEI$(\\mathbf{x})$: exact GP EI Jacobian')\r\n",
        "    plt.plot(x_test, hess, color='b', label='GP d$^{2}$EI$(\\mathbf{x})$: exact GP EI Hessian')\r\n",
        "    plt.ylim(-0.3, 0.4)\r\n",
        "    plt.xlim(0, 2 * np.pi)\r\n",
        "    plt.legend(loc=0)\r\n",
        "    plt.xlabel(\"$\\mathbf{x}$\")\r\n",
        "    plt.ylabel(\"GP dEI$(\\mathbf{x})$, GP d$^{2}$EI$(\\mathbf{x})$\")\r\n",
        "    title = 'GP EI'\r\n",
        "    plt.suptitle(title, weight = 'bold')    \r\n",
        "    plt.show()\r\n",
        "    return len(hess), min(hess), max(hess)\r\n",
        "  \r\n",
        "plot_jacobian(gpgo_ncg, param, new=True)"
      ],
      "execution_count": 17,
      "outputs": [
        {
          "output_type": "display_data",
          "data": {
            "image/png": "[encoded data removed]",
            "text/plain": [
              "<Figure size 504x360 with 1 Axes>"
            ]
          },
          "metadata": {
            "tags": [],
            "needs_background": "light"
          }
        },
        {
          "output_type": "execute_result",
          "data": {
            "text/plain": [
              "(629, -0.290993752714061, 0.20206889077999377)"
            ]
          },
          "metadata": {
            "tags": []
          },
          "execution_count": 17
        }
      ]
    },
    {
      "cell_type": "code",
      "metadata": {
        "colab": {
          "base_uri": "https://localhost:8080/"
        },
        "id": "fFH3lg7xVFSK",
        "outputId": "0cdfc203-9793-44f6-be07-b2c39c6781c9"
      },
      "source": [
        "np.random.seed(set_seed)\r\n",
        "\r\n",
        "gp_lbfgsb = dGaussianProcess(cov_func_hess, optimize=opt)\r\n",
        "gpgo_lbfgsb = dGPGO(gp_lbfgsb, Acquisition_new(d_util), f_sine, param)\r\n",
        "gpgo_lbfgsb.run(init_evals=n_init, max_iter=1)\r\n",
        "\r\n",
        "x_test = np.linspace(lb, ub, n_test).reshape((n_test, 1))\r\n",
        "a_lbfgsb = np.array(-gpgo_lbfgsb.f_best.flatten())\r\n",
        "max(a_lbfgsb), gpgo_lbfgsb.best[0]"
      ],
      "execution_count": 18,
      "outputs": [
        {
          "output_type": "stream",
          "text": [
            "Evaluation \t Proposed point \t  Current eval. \t Best eval.\n",
            "init   \t [5.40077857]. \t  -0.7722701001578773 \t 0.8593619530727911\n",
            "init   \t [1.03402064]. \t  0.8593619530727911 \t 0.8593619530727911\n",
            "init   \t [3.03776904]. \t  0.103637186120003 \t 0.8593619530727911\n",
            "init   \t [5.78698499]. \t  -0.4760875534527427 \t 0.8593619530727911\n",
            "init   \t [2.69269954]. \t  0.4339685793492214 \t 0.8593619530727911\n",
            "1      \t [1.65077328]. \t  \u001b[92m0.9968035477520534\u001b[0m \t 0.9968035477520534\n"
          ],
          "name": "stdout"
        },
        {
          "output_type": "execute_result",
          "data": {
            "text/plain": [
              "(0.17481749972807062, 1.6507732807935613)"
            ]
          },
          "metadata": {
            "tags": []
          },
          "execution_count": 18
        }
      ]
    },
    {
      "cell_type": "code",
      "metadata": {
        "colab": {
          "base_uri": "https://localhost:8080/"
        },
        "id": "FpyO1sklQHJx",
        "outputId": "4d4e795d-d885-4f9b-fa9f-5a7fcf8a05ef"
      },
      "source": [
        "np.random.seed(set_seed)\r\n",
        "\r\n",
        "gp_ncg = dGaussianProcess(cov_func_hess, optimize=opt)\r\n",
        "gpgo_ncg = d2GPGO(gp_ncg, Acquisition_new(d_util), f_sine, param)\r\n",
        "gpgo_ncg.run(init_evals=n_init, max_iter=1)\r\n",
        "\r\n",
        "x_test = np.linspace(lb, ub, n_test).reshape((n_test, 1))\r\n",
        "a_ncg = np.array(-gpgo_ncg.f_best.flatten())\r\n",
        "max(a_ncg), gpgo_ncg.best[0]"
      ],
      "execution_count": 19,
      "outputs": [
        {
          "output_type": "stream",
          "text": [
            "Evaluation \t Proposed point \t  Current eval. \t Best eval.\n",
            "init   \t [5.40077857]. \t  -0.7722701001578773 \t 0.8593619530727911\n",
            "init   \t [1.03402064]. \t  0.8593619530727911 \t 0.8593619530727911\n",
            "init   \t [3.03776904]. \t  0.103637186120003 \t 0.8593619530727911\n",
            "init   \t [5.78698499]. \t  -0.4760875534527427 \t 0.8593619530727911\n",
            "init   \t [2.69269954]. \t  0.4339685793492214 \t 0.8593619530727911\n",
            "1      \t [1.63499528]. \t  \u001b[92m0.9979399551881812\u001b[0m \t 0.9979399551881812\n"
          ],
          "name": "stdout"
        },
        {
          "output_type": "execute_result",
          "data": {
            "text/plain": [
              "(0.17469108501459668, 1.6349952753542698)"
            ]
          },
          "metadata": {
            "tags": []
          },
          "execution_count": 19
        }
      ]
    },
    {
      "cell_type": "code",
      "metadata": {
        "colab": {
          "base_uri": "https://localhost:8080/",
          "height": 350
        },
        "id": "W4sW-LjCj2jX",
        "outputId": "e6ac7917-fd39-42a4-bb43-f8d4ba7c85a1"
      },
      "source": [
        "def plot_sine(gpgo, param, new=True):\r\n",
        "    x_test = np.linspace(lb, ub, n_test).reshape((n_test, 1))\r\n",
        "    y_hat, y_var = gpgo.GP.predict(x_test, return_std=True)\r\n",
        "    std = np.sqrt(y_var)\r\n",
        "    l, u = y_hat - 1.96 * std, y_hat + 1.96 * std # z-score, 95% confidence (two-tail)\r\n",
        "    colours = ['Post', 'Random']\r\n",
        "    if new:\r\n",
        "        plt.figure(figsize=[7,5])\r\n",
        "        plt.scatter(gpgo.GP.X, gpgo.GP.y, marker ='D', color = 'Red', label='Post-initialization ($\\mathbf{x}$, $y$)')\r\n",
        "        plt.scatter(gpgo.X, gpgo.y, marker ='D', color = 'Green', label='Random-initialization ($\\mathbf{x}$, $y$)')\r\n",
        "        plt.ylim(-2,2)\r\n",
        "        plt.xlim(0,2 * np.pi)\r\n",
        "        plt.plot(x_test.flatten(), y_hat, color = 'Yellow', label='$\\hat{\\mu}_{GP}(\\mathbf{x})$')\r\n",
        "        plt.plot(x_test.flatten(), np.sin(x_test.flatten()), color = 'Orange', label='True function: y = sin($\\mathbf{x}$)')\r\n",
        "        plt.fill_between(x_test.flatten(), l, u, alpha=0.2, label='95% C.I. for $\\mu_{GP}(\\mathbf{x})$')\r\n",
        "        title = 'Sine'\r\n",
        "        plt.title(title, weight = 'bold')\r\n",
        "        plt.xlabel(\"$\\mathbf{x}$\")\r\n",
        "        plt.ylabel(\"sin($\\mathbf{x}$)\")\r\n",
        "        plt.legend(loc=0)\r\n",
        "        plt.show()\r\n",
        "\r\n",
        "plot_sine(gpgo_ncg, param, new=True)"
      ],
      "execution_count": 20,
      "outputs": [
        {
          "output_type": "display_data",
          "data": {
            "image/png": "[encoded data removed]",
            "text/plain": [
              "<Figure size 504x360 with 1 Axes>"
            ]
          },
          "metadata": {
            "tags": [],
            "needs_background": "light"
          }
        }
      ]
    },
    {
      "cell_type": "code",
      "metadata": {
        "id": "DE7aPWK5fk-V"
      },
      "source": [
        "y_global_opt = 1"
      ],
      "execution_count": 21,
      "outputs": []
    },
    {
      "cell_type": "code",
      "metadata": {
        "colab": {
          "base_uri": "https://localhost:8080/"
        },
        "id": "kmu3t4arjB52",
        "outputId": "b007bb89-e2f1-4d0a-e41b-95a761b0acef"
      },
      "source": [
        "gpgo_lbfgsb.tau, gpgo_ncg.tau"
      ],
      "execution_count": 22,
      "outputs": [
        {
          "output_type": "execute_result",
          "data": {
            "text/plain": [
              "(0.9968035477520534, 0.9979399551881812)"
            ]
          },
          "metadata": {
            "tags": []
          },
          "execution_count": 22
        }
      ]
    },
    {
      "cell_type": "code",
      "metadata": {
        "colab": {
          "base_uri": "https://localhost:8080/"
        },
        "id": "p6wT36cSjcVe",
        "outputId": "0416f7a5-a9fa-4e0f-f98e-e9a7d098bab2"
      },
      "source": [
        "gpgo_lbfgsb_regret = y_global_opt - gpgo_lbfgsb.tau\r\n",
        "gpgo_ncg_regret = y_global_opt - gpgo_ncg.tau\r\n",
        "\r\n",
        "gpgo_lbfgsb_regret, gpgo_ncg_regret"
      ],
      "execution_count": 23,
      "outputs": [
        {
          "output_type": "execute_result",
          "data": {
            "text/plain": [
              "(0.003196452247946624, 0.002060044811818762)"
            ]
          },
          "metadata": {
            "tags": []
          },
          "execution_count": 23
        }
      ]
    }
  ]
}