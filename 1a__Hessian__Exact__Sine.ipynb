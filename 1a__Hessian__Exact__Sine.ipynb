{
  "nbformat": 4,
  "nbformat_minor": 0,
  "metadata": {
    "colab": {
      "name": "1a__Hessian__Exact__Sine.ipynb",
      "provenance": [],
      "collapsed_sections": []
    },
    "kernelspec": {
      "name": "python3",
      "display_name": "Python 3"
    }
  },
  "cells": [
    {
      "cell_type": "code",
      "metadata": {
        "colab": {
          "base_uri": "https://localhost:8080/"
        },
        "id": "xfcpTlj44HRE",
        "outputId": "5ca1af70-77e7-4312-eafa-941eedb95ffe"
      },
      "source": [
        "!pip install pyGPGO"
      ],
      "execution_count": null,
      "outputs": [
        {
          "output_type": "stream",
          "text": [
            "Requirement already satisfied: pyGPGO in /usr/local/lib/python3.7/dist-packages (0.4.0.dev1)\n",
            "Requirement already satisfied: theano in /usr/local/lib/python3.7/dist-packages (from pyGPGO) (1.0.5)\n",
            "Requirement already satisfied: scipy in /usr/local/lib/python3.7/dist-packages (from pyGPGO) (1.4.1)\n",
            "Requirement already satisfied: pyMC3 in /usr/local/lib/python3.7/dist-packages (from pyGPGO) (3.7)\n",
            "Requirement already satisfied: numpy in /usr/local/lib/python3.7/dist-packages (from pyGPGO) (1.19.5)\n",
            "Requirement already satisfied: joblib in /usr/local/lib/python3.7/dist-packages (from pyGPGO) (1.0.1)\n",
            "Requirement already satisfied: scikit-learn in /usr/local/lib/python3.7/dist-packages (from pyGPGO) (0.22.2.post1)\n",
            "Requirement already satisfied: six>=1.9.0 in /usr/local/lib/python3.7/dist-packages (from theano->pyGPGO) (1.15.0)\n",
            "Requirement already satisfied: pandas>=0.18.0 in /usr/local/lib/python3.7/dist-packages (from pyMC3->pyGPGO) (1.1.5)\n",
            "Requirement already satisfied: patsy>=0.4.0 in /usr/local/lib/python3.7/dist-packages (from pyMC3->pyGPGO) (0.5.1)\n",
            "Requirement already satisfied: h5py>=2.7.0 in /usr/local/lib/python3.7/dist-packages (from pyMC3->pyGPGO) (2.10.0)\n",
            "Requirement already satisfied: tqdm>=4.8.4 in /usr/local/lib/python3.7/dist-packages (from pyMC3->pyGPGO) (4.41.1)\n",
            "Requirement already satisfied: pytz>=2017.2 in /usr/local/lib/python3.7/dist-packages (from pandas>=0.18.0->pyMC3->pyGPGO) (2018.9)\n",
            "Requirement already satisfied: python-dateutil>=2.7.3 in /usr/local/lib/python3.7/dist-packages (from pandas>=0.18.0->pyMC3->pyGPGO) (2.8.1)\n"
          ],
          "name": "stdout"
        }
      ]
    },
    {
      "cell_type": "code",
      "metadata": {
        "id": "o9WwUpis3kHm"
      },
      "source": [
        "### Import modules:\n",
        "\n",
        "import numpy as np\n",
        "import scipy as sp\n",
        "import pandas as pd\n",
        "import matplotlib.pyplot as plt\n",
        "import warnings\n",
        "\n",
        "from pyGPGO.logger import EventLogger\n",
        "from pyGPGO.GPGO import GPGO\n",
        "from pyGPGO.surrogates.GaussianProcess import GaussianProcess\n",
        "from pyGPGO.acquisition import Acquisition\n",
        "from pyGPGO.covfunc import squaredExponential\n",
        "\n",
        "from collections import OrderedDict\n",
        "from joblib import Parallel, delayed\n",
        "from numpy.linalg import slogdet, inv, cholesky, solve\n",
        "from scipy.optimize import minimize\n",
        "from scipy.spatial.distance import cdist\n",
        "from scipy.special import gamma\n",
        "from scipy.stats import norm, t\n",
        "from matplotlib.pyplot import rc\n",
        "from mpl_toolkits.axes_grid1.inset_locator import inset_axes, mark_inset\n",
        "\n",
        "warnings.filterwarnings(\"ignore\", category=RuntimeWarning)"
      ],
      "execution_count": null,
      "outputs": []
    },
    {
      "cell_type": "code",
      "metadata": {
        "id": "Xb3X60NsRoa0"
      },
      "source": [
        "n_start_AcqFunc = 250 #multi-start iterations to avoid local optima in AcqFunc optimization\n",
        "###n_start_AcqFunc = 10 #multi-start iterations to avoid local optima in AcqFunc optimization"
      ],
      "execution_count": null,
      "outputs": []
    },
    {
      "cell_type": "code",
      "metadata": {
        "id": "ZP3aj88vQppJ"
      },
      "source": [
        "### Data inputs:\n",
        "set_seed = 888 #initialise pseudo-random number generator, same start-point each time.\n",
        "\n",
        "### Acquisition / Utility function - MLE/Type II:\n",
        "d_util = 'dEI_GP'\n",
        "\n",
        "n_test = n_start_AcqFunc\n",
        "opt=False"
      ],
      "execution_count": null,
      "outputs": []
    },
    {
      "cell_type": "code",
      "metadata": {
        "id": "Kw4wzT3I4vlE"
      },
      "source": [
        "### Objective Function - Sin(x) 1-D:\n",
        "\n",
        "eps = 1e-8\n",
        "\n",
        "def f_sine(x1_training):\n",
        "    return operator * np.sin(x1_training)\n",
        "        \n",
        "def f_sine_eps(x1_training):\n",
        "    return operator * np.sin(x1_training + eps)\n",
        "\n",
        "# Constraints:\n",
        "lb = 0\n",
        "ub = 2 * np.pi\n",
        "    \n",
        "# Input array dimension(s):\n",
        "dim = 1\n",
        "\n",
        "# 1-D inputs' parameter bounds:\n",
        "param = {'x1_training': ('cont', [lb, ub])}\n",
        "    \n",
        "# True y bounds:\n",
        "y_lb = 1 # targets global maximum \n",
        "operator = 1 # targets global maximum \n",
        "y_global_orig = y_lb * operator # targets global maximum\n",
        "    \n",
        "# Test data:\n",
        "x1_test = np.linspace(lb, ub, n_test)"
      ],
      "execution_count": null,
      "outputs": []
    },
    {
      "cell_type": "code",
      "metadata": {
        "id": "6gkK0WAn4zE0"
      },
      "source": [
        "### Derivatives - Squared-exponential covariance function:\n",
        "\n",
        "def l2norm_(X, Xstar):\n",
        "    \n",
        "    return cdist(X, Xstar)\n",
        "\n",
        "def kronDelta(X, Xstar):\n",
        "\n",
        "    return cdist(X, Xstar) < np.finfo(np.float32).eps\n",
        "\n",
        "class squaredExponentialDeriv(squaredExponential):\n",
        "    l = 1\n",
        "    sigmaf = 1\n",
        "    sigman = 1e-6\n",
        "\n",
        "    def K(self, X, Xstar):\n",
        "        \n",
        "        r = (l2norm_(X, Xstar)/self.l)\n",
        "        K = self.sigmaf * np.exp(-1/2*r **2) + self.sigman * kronDelta(X, Xstar)\n",
        "        return K\n",
        "    \n",
        "    def dK(self, X, Xstar):\n",
        "        \n",
        "        r = (l2norm_(X, Xstar)/self.l)\n",
        "        dK = self.sigmaf/self.l**2 * np.exp(-1/2 * r **2) * l2norm_(X, Xstar)\n",
        "        return dK\n",
        "    \n",
        "    def d2K(self, X, Xstar):\n",
        "        \n",
        "        r = (l2norm_(X, Xstar)/self.l)\n",
        "        d2K = self.sigmaf/self.l**2 * np.exp(-1/2 * r **2) * (r **2 - 1)\n",
        "        return d2K\n",
        "    \n",
        "cov_func = squaredExponential()\n",
        "cov_func_hess = squaredExponentialDeriv()"
      ],
      "execution_count": null,
      "outputs": []
    },
    {
      "cell_type": "code",
      "metadata": {
        "id": "aVkI7OoO5K7U"
      },
      "source": [
        "### Cumulative Regret Calculator:\n",
        "\n",
        "def min_max_array(x):\n",
        "    new_list = []\n",
        "    for i, num in enumerate(x):\n",
        "            new_list.append(np.min(x[0:i+1]))\n",
        "    return new_list"
      ],
      "execution_count": null,
      "outputs": []
    },
    {
      "cell_type": "code",
      "metadata": {
        "id": "4-O_7SOE5M2U"
      },
      "source": [
        "class Acquisition_new(Acquisition):    \n",
        "    def __init__(self, mode, eps=1e-08, **params):\n",
        "        \n",
        "        self.params = params\n",
        "        self.eps = eps\n",
        "\n",
        "        mode_dict = {\n",
        "            'dEI_GP': self.dEI_GP\n",
        "        }\n",
        "\n",
        "        self.f = mode_dict[mode]\n",
        "    \n",
        "    def dEI_GP(self, tau, mean, std, ds, dm, dvdv, d2v, d2m):\n",
        "        z = -1 * (tau - mean - self.eps) / (std + self.eps)\n",
        "        \n",
        "        dsdx = ds / 2 * (std + self.eps)\n",
        "        d2sdx = -dsdx**2 / ((std + self.eps)) - dvdv / (std + self.eps) - d2v / (std + self.eps)\n",
        "        dmdx = (dm - z * dsdx) / (std + self.eps)\n",
        "        d2mdx = (d2m - (z * d2sdx + 2 * dmdx * dsdx)) / (std + self.eps)\n",
        "        \n",
        "        f = (std + self.eps) * (z * norm.cdf(z) + norm.pdf(z)[0])\n",
        "        df = (f / (std + self.eps) * dsdx + (std + self.eps) * norm.cdf(z) * dmdx)\n",
        "        d2f = (f / (std + self.eps) * d2sdx + dsdx * dmdx * norm.cdf(z) \\\n",
        "            + d2mdx * (std + self.eps) * norm.cdf(z) + dsdx * norm.cdf(z) * dmdx \\\n",
        "            + norm.pdf(z)[0] * (std + self.eps) * dmdx)\n",
        "            \n",
        "        return f, df, d2f\n",
        "    \n",
        "    def _eval(self, tau, mean, std):\n",
        "    \n",
        "        return self.f(tau, mean, std, **self.params)\n",
        "    \n",
        "    def d_eval(self, tau, mean, std, ds, dm, dvdv, d2v, d2m):\n",
        "    \n",
        "        return self.f(tau, mean, std, ds, dm, dvdv, d2v, d2m, **self.params)"
      ],
      "execution_count": null,
      "outputs": []
    },
    {
      "cell_type": "code",
      "metadata": {
        "id": "IwQq5d2E5QGU"
      },
      "source": [
        "### Surrogate derivatives: \n",
        "\n",
        "from scipy.linalg import cholesky, solve\n",
        "\n",
        "class dGaussianProcess(GaussianProcess):\n",
        "    l = 1\n",
        "    sigmaf = 1\n",
        "    sigman = 1e-6\n",
        "\n",
        "    def AcqGrad(self, Xstar, return_std=False):\n",
        "        r_X = l2norm_(self.X, self.X)/self.l\n",
        "        K = self.sigmaf * np.exp(-1/2*r_X **2) + self.sigman * kronDelta(self.X, self.X)\n",
        "        L = cholesky(K).T\n",
        "        alpha = solve(L.T, solve(L, self.y))\n",
        "        Xstar = np.atleast_2d(Xstar)\n",
        "        Kstar = squaredExponentialDeriv.K(self, self.X, Xstar).T\n",
        "        dKstar = squaredExponentialDeriv.dK(self, self.X, Xstar).T\n",
        "        d2Kstar = squaredExponentialDeriv.d2K(self, self.X, Xstar).T\n",
        "        v = solve(self.L, Kstar.T)\n",
        "        dv = solve(self.L, dKstar.T)\n",
        "        d2v = solve(self.L, d2Kstar.T)\n",
        "        \n",
        "        ds = -2 * np.dot(dv.T, v)\n",
        "        dvdv = np.dot(dv.T, dv)\n",
        "        d2s = -2 * (dvdv + d2v)\n",
        "        \n",
        "        dm = np.dot(dKstar, alpha)\n",
        "        d2m = np.dot(d2Kstar, alpha)\n",
        "        return ds, dm, dvdv, d2v, d2m"
      ],
      "execution_count": null,
      "outputs": []
    },
    {
      "cell_type": "code",
      "metadata": {
        "id": "5oW9vYUdCqkS"
      },
      "source": [
        "class dGPGO(GPGO):  \n",
        "    n_start = n_start_AcqFunc\n",
        "    eps = 1e-08\n",
        "        \n",
        "    def func(self, xnew):\n",
        "        new_mean, new_var = self.GP.predict(xnew, return_std=True)\n",
        "        new_std = np.sqrt(new_var + 1e-6)\n",
        "        ds, dm, dvdv, d2v, d2m = self.GP.AcqGrad(xnew, return_std=True)\n",
        "        f  = np.empty((self.n_start,))\n",
        "        df = np.empty((self.n_start,))\n",
        "        f  = -self.A.d_eval(self.tau, new_mean, new_std, ds=ds, dm=dm, dvdv=dvdv, d2v=d2v, d2m=d2m)[0]\n",
        "        df = -self.A.d_eval(self.tau, new_mean, new_std, ds=ds, dm=dm, dvdv=dvdv, d2v=d2v, d2m=d2m)[1]\n",
        "        df_array = np.full((len(xnew),),df)\n",
        "        return f, df_array\n",
        "        \n",
        "    def d_optimizeAcq(self, method='L-BFGS-B', n_start=n_start):\n",
        "        start_points_dict = [self._sampleParam() for i in range(n_start)]\n",
        "        start_points_arr = np.array([list(s.values())\n",
        "                                     for s in start_points_dict])\n",
        "        x_best = np.empty((n_start, len(self.parameter_key)))\n",
        "        f_best = np.empty((n_start,))\n",
        "        opt = Parallel(n_jobs=self.n_jobs)(delayed(minimize)(self.func,\n",
        "                                                                 x0=start_point,\n",
        "                                                                 method=method,\n",
        "                                                                 jac = True,\n",
        "                                                                 bounds=self.parameter_range) for start_point in\n",
        "                                               start_points_arr)\n",
        "        x_best = np.array([res.x for res in opt])\n",
        "        f_best = np.array([np.atleast_1d(res.fun)[0] for res in opt])\n",
        "\n",
        "        self.x_best = x_best\n",
        "        self.f_best = f_best\n",
        "        self.best = x_best[np.argmin(f_best)]\n",
        "    \n",
        "    def run(self, max_iter=10, init_evals=3, resume=False):\n",
        "        \n",
        "        if not resume:\n",
        "            self.init_evals = init_evals\n",
        "            self._firstRun(self.init_evals)\n",
        "            self.logger._printInit(self)\n",
        "        for iteration in range(max_iter):\n",
        "            self.d_optimizeAcq()\n",
        "            self.updateGP()\n",
        "            self.logger._printCurrent(self)"
      ],
      "execution_count": null,
      "outputs": []
    },
    {
      "cell_type": "code",
      "metadata": {
        "id": "BZt_3hbr5Stc"
      },
      "source": [
        "### d2GPGO - BayesOpt class: Exact Hessian\n",
        "\n",
        "class d2GPGO(GPGO):  \n",
        "    n_start = n_start_AcqFunc\n",
        "    p = np.full((n_start,1),1) + 1\n",
        "    eps = 1e-08\n",
        "    \n",
        "    def func(self, xnew):\n",
        "        new_mean, new_var = self.GP.predict(xnew, return_std=True)\n",
        "        new_std = np.sqrt(new_var + 1e-6)\n",
        "        ds, dm, dvdv, d2v, d2m = self.GP.AcqGrad(xnew, return_std=True)\n",
        "        f  = np.empty((self.n_start,))\n",
        "        df = np.empty((self.n_start,))\n",
        "        f  = -self.A.d_eval(self.tau, new_mean, new_std, ds=ds, dm=dm, dvdv=dvdv, d2v=d2v, d2m=d2m)[0]\n",
        "        df = -self.A.d_eval(self.tau, new_mean, new_std, ds=ds, dm=dm, dvdv=dvdv, d2v=d2v, d2m=d2m)[1]\n",
        "        df_array = np.full((len(xnew),),df)\n",
        "        return f, df_array\n",
        "    \n",
        "    def hessp_nonzero(self, xnew, p):\n",
        "        new_mean, new_var = self.GP.predict(xnew, return_std=True)\n",
        "        new_std = np.sqrt(new_var + 1e-6)\n",
        "        ds, dm, dvdv, d2v, d2m = self.GP.AcqGrad(xnew, return_std=True)\n",
        "        df2 = np.empty((self.n_start,))\n",
        "        df2 = -self.A.d_eval(self.tau, new_mean, new_std, ds=ds, dm=dm, dvdv=dvdv, d2v=d2v, d2m=d2m)[2]\n",
        "        H2 = np.empty((self.n_start,))\n",
        "        df2 = np.asarray(df2)\n",
        "        p = np.asarray(p)\n",
        "        H2 = np.multiply(df2,p)\n",
        "        return H2\n",
        "\n",
        "    def dEI_GP(self, tau, mean, std, ds, dm, dvdv, d2v, d2m):\n",
        "        z = -1 * (tau - mean - self.eps) / (std + self.eps)\n",
        "        \n",
        "        dsdx = ds / 2 * (std + self.eps)\n",
        "        d2sdx = -dsdx**2 / ((std + self.eps)) - dvdv / (std + self.eps) - d2v / (std + self.eps)\n",
        "        dmdx = (dm - z * dsdx) / (std + self.eps)\n",
        "        d2mdx = (d2m - (z * d2sdx + 2 * dmdx * dsdx)) / (std + self.eps)\n",
        "        \n",
        "        d2f = (z * norm.cdf(z) + norm.pdf(z)[0]) * d2sdx + dsdx * dmdx * norm.cdf(z) \\\n",
        "            + d2mdx * (std + self.eps) * norm.cdf(z) + dsdx * norm.cdf(z) * dmdx \\\n",
        "            + norm.pdf(z)[0] * (std + self.eps) * dmdx\n",
        "\n",
        "        return d2f\n",
        "\n",
        "    def hessp_nonzero1(self, xnew, p, *args):\n",
        "      new_mean, new_var = self.GP.predict(xnew, return_std=True)\n",
        "      new_std = np.sqrt(new_var + 1e-6)\n",
        "      ds, dm, dvdv, d2v, d2m = self.GP.AcqGrad(xnew, return_std=True)\n",
        "      df2 = np.empty((self.n_start,))\n",
        "      df2 = -self.dEI_GP(self.tau, new_mean, new_std, ds=ds, dm=dm, dvdv=dvdv, d2v=d2v, d2m=d2m)[0] * p\n",
        "      return df2\n",
        "\n",
        "    def d_optimizeAcq(self, method='Newton-CG', n_start=n_start):\n",
        "        start_points_dict = [self._sampleParam() for i in range(n_start)]\n",
        "        start_points_arr = np.array([list(s.values())\n",
        "                                     for s in start_points_dict])\n",
        "        x_best = np.empty((n_start, len(self.parameter_key)))\n",
        "        f_best = np.empty((n_start,))\n",
        "        opt = Parallel(n_jobs=self.n_jobs)(delayed(minimize)(self.func,\n",
        "                                                                 x0=start_point,\n",
        "                                                                 method=method,\n",
        "                                                                 jac = True,                  \n",
        "                                                                 hessp = self.hessp_nonzero1,                      \n",
        "                                                                 bounds=self.parameter_range) for start_point in\n",
        "                                               start_points_arr)\n",
        "        \n",
        "        x_best = np.array([res.x for res in opt])\n",
        "        f_best = np.array([np.atleast_1d(res.fun)[0] for res in opt])\n",
        "\n",
        "        self.x_best = x_best\n",
        "        self.f_best = f_best\n",
        "        self.best = x_best[np.argmin(f_best)]\n",
        "\n",
        "    def run(self, max_iter=10, init_evals=3, resume=False):    \n",
        "        if not resume:\n",
        "            self.init_evals = init_evals\n",
        "            self._firstRun(self.init_evals)\n",
        "            self.logger._printInit(self)\n",
        "        for iteration in range(max_iter):\n",
        "            self.d_optimizeAcq()\n",
        "            self.updateGP()\n",
        "            self.logger._printCurrent(self)"
      ],
      "execution_count": null,
      "outputs": []
    },
    {
      "cell_type": "code",
      "metadata": {
        "id": "DOWaxueg4DK8"
      },
      "source": [
        "n_init = 2  # Number of iterations used to initialise Bayesian optimisation; minimum 2\n",
        "iters = 2"
      ],
      "execution_count": null,
      "outputs": []
    },
    {
      "cell_type": "code",
      "metadata": {
        "colab": {
          "base_uri": "https://localhost:8080/"
        },
        "id": "NWI0uaDzhPKT",
        "outputId": "44d9367d-b499-4cef-ba74-9df87d5473ac"
      },
      "source": [
        "np.random.seed(set_seed)\n",
        "\n",
        "gp_lbfgsb_iters = dGaussianProcess(cov_func_hess, optimize=opt)\n",
        "gpgo_lbfgsb_iters = dGPGO(gp_lbfgsb_iters, Acquisition_new(d_util), f_sine, param)\n",
        "gpgo_lbfgsb_iters.run(init_evals=n_init, max_iter=iters)\n",
        "\n",
        "x_test = np.linspace(lb, ub, n_test).reshape((n_test, 1))\n",
        "a_lbfgsb_iters = np.array(-gpgo_lbfgsb_iters.f_best.flatten())\n",
        "max(a_lbfgsb_iters), gpgo_lbfgsb_iters.best[0]"
      ],
      "execution_count": null,
      "outputs": [
        {
          "output_type": "stream",
          "text": [
            "Evaluation \t Proposed point \t  Current eval. \t Best eval.\n",
            "init   \t [5.40077857]. \t  -0.7722701001578773 \t 0.8593619530727911\n",
            "init   \t [1.03402064]. \t  0.8593619530727911 \t 0.8593619530727911\n",
            "1      \t [0.06776379]. \t  0.06771193924654141 \t 0.8593619530727911\n",
            "2      \t [1.92712989]. \t  \u001b[92m0.9371821197871137\u001b[0m \t 0.9371821197871137\n"
          ],
          "name": "stdout"
        },
        {
          "output_type": "execute_result",
          "data": {
            "text/plain": [
              "(0.22314609674377023, 1.9271298948654558)"
            ]
          },
          "metadata": {
            "tags": []
          },
          "execution_count": 13
        }
      ]
    },
    {
      "cell_type": "code",
      "metadata": {
        "colab": {
          "base_uri": "https://localhost:8080/"
        },
        "id": "GewNWXj6hO79",
        "outputId": "574e07e5-04b0-4ee5-b8c6-863329fc3553"
      },
      "source": [
        "np.random.seed(set_seed)\n",
        "\n",
        "gp_ncg_iters = dGaussianProcess(cov_func_hess, optimize=opt)\n",
        "gpgo_ncg_iters = d2GPGO(gp_ncg_iters, Acquisition_new(d_util), f_sine, param)\n",
        "gpgo_ncg_iters.run(init_evals=n_init, max_iter=iters)\n",
        "\n",
        "x_test = np.linspace(lb, ub, n_test).reshape((n_test, 1))\n",
        "a_ncg_iters = np.array(-gpgo_ncg_iters.f_best.flatten())\n",
        "max(a_ncg_iters), gpgo_ncg_iters.best[0]"
      ],
      "execution_count": null,
      "outputs": [
        {
          "output_type": "stream",
          "text": [
            "Evaluation \t Proposed point \t  Current eval. \t Best eval.\n",
            "init   \t [5.40077857]. \t  -0.7722701001578773 \t 0.8593619530727911\n",
            "init   \t [1.03402064]. \t  0.8593619530727911 \t 0.8593619530727911\n",
            "1      \t [0.08875878]. \t  0.08864228083316954 \t 0.8593619530727911\n",
            "2      \t [1.93225904]. \t  \u001b[92m0.9353805469962715\u001b[0m \t 0.9353805469962715\n"
          ],
          "name": "stdout"
        },
        {
          "output_type": "execute_result",
          "data": {
            "text/plain": [
              "(0.22297440078036782, 1.9322590385949832)"
            ]
          },
          "metadata": {
            "tags": []
          },
          "execution_count": 14
        }
      ]
    },
    {
      "cell_type": "code",
      "metadata": {
        "colab": {
          "base_uri": "https://localhost:8080/"
        },
        "id": "1SubBoYjVz8Z",
        "outputId": "2007b003-80bd-46fc-cf87-0da4081b624b"
      },
      "source": [
        "np.random.seed(set_seed)\n",
        "\n",
        "gp_lbfgsb_iters1 = dGaussianProcess(cov_func_hess, optimize=opt)\n",
        "gpgo_lbfgsb_iters1 = dGPGO(gp_lbfgsb_iters1, Acquisition_new(d_util), f_sine, param)\n",
        "gpgo_lbfgsb_iters1.run(init_evals=n_init, max_iter=iters+1)\n",
        "\n",
        "x_test = np.linspace(lb, ub, n_test).reshape((n_test, 1))\n",
        "a_lbfgsb_iters1 = np.array(-gpgo_lbfgsb_iters1.f_best.flatten())\n",
        "max(a_lbfgsb_iters1), gpgo_lbfgsb_iters1.best[0]"
      ],
      "execution_count": null,
      "outputs": [
        {
          "output_type": "stream",
          "text": [
            "Evaluation \t Proposed point \t  Current eval. \t Best eval.\n",
            "init   \t [5.40077857]. \t  -0.7722701001578773 \t 0.8593619530727911\n",
            "init   \t [1.03402064]. \t  0.8593619530727911 \t 0.8593619530727911\n",
            "1      \t [0.06776379]. \t  0.06771193924654141 \t 0.8593619530727911\n",
            "2      \t [1.92712989]. \t  \u001b[92m0.9371821197871137\u001b[0m \t 0.9371821197871137\n",
            "3      \t [1.5363612]. \t  \u001b[92m0.9994071694940907\u001b[0m \t 0.9994071694940907\n"
          ],
          "name": "stdout"
        },
        {
          "output_type": "execute_result",
          "data": {
            "text/plain": [
              "(0.09349688139713526, 1.5363611967722237)"
            ]
          },
          "metadata": {
            "tags": []
          },
          "execution_count": 15
        }
      ]
    },
    {
      "cell_type": "code",
      "metadata": {
        "colab": {
          "base_uri": "https://localhost:8080/"
        },
        "id": "DDrhAOgvWBGP",
        "outputId": "3335bd9d-db76-41ff-c4e5-f1f4d389b083"
      },
      "source": [
        "np.random.seed(set_seed)\n",
        "\n",
        "gp_ncg_iters1 = dGaussianProcess(cov_func_hess, optimize=opt)\n",
        "gpgo_ncg_iters1 = d2GPGO(gp_ncg_iters1, Acquisition_new(d_util), f_sine, param)\n",
        "gpgo_ncg_iters1.run(init_evals=n_init, max_iter=iters+1)\n",
        "\n",
        "x_test = np.linspace(lb, ub, n_test).reshape((n_test, 1))\n",
        "a_ncg_iters1 = np.array(-gpgo_ncg_iters1.f_best.flatten())\n",
        "max(a_ncg_iters1), gpgo_ncg_iters1.best[0]"
      ],
      "execution_count": null,
      "outputs": [
        {
          "output_type": "stream",
          "text": [
            "Evaluation \t Proposed point \t  Current eval. \t Best eval.\n",
            "init   \t [5.40077857]. \t  -0.7722701001578773 \t 0.8593619530727911\n",
            "init   \t [1.03402064]. \t  0.8593619530727911 \t 0.8593619530727911\n",
            "1      \t [0.08875878]. \t  0.08864228083316954 \t 0.8593619530727911\n",
            "2      \t [1.93225904]. \t  \u001b[92m0.9353805469962715\u001b[0m \t 0.9353805469962715\n",
            "3      \t [1.53836312]. \t  \u001b[92m0.9994740896626113\u001b[0m \t 0.9994740896626113\n"
          ],
          "name": "stdout"
        },
        {
          "output_type": "execute_result",
          "data": {
            "text/plain": [
              "(0.09486197104245932, 1.5383631203298658)"
            ]
          },
          "metadata": {
            "tags": []
          },
          "execution_count": 16
        }
      ]
    },
    {
      "cell_type": "code",
      "metadata": {
        "colab": {
          "base_uri": "https://localhost:8080/",
          "height": 387
        },
        "id": "TJwkXzN9AexL",
        "outputId": "c9cf81bc-3c63-42da-9681-693446cacdef"
      },
      "source": [
        "def plot_dGPGO(gpgo, param, new):\n",
        "    fig, ax = plt.subplots(figsize=[7,5])\n",
        "    x_test = np.linspace(lb, ub, n_test).reshape((n_test, 1))\n",
        "    a = np.array([-gpgo_ncg_iters.func(np.atleast_1d(x))[0] for x in x_test]).flatten()\n",
        "    plt.plot(x_test, a, color='r', label='GP EI$(\\mathbf{x})$: Newton-CG with GP d$^{2}$EI')\n",
        "    plt.ylim(0, 0.1)\n",
        "    plt.xlim(0, 2 * np.pi)\n",
        "    plt.axvline(gpgo_lbfgsb_iters1.best[0], color='g', label='$\\mathbf{x}$: L-BFGS-B without Hessian')\n",
        "    plt.axvline(gpgo_ncg_iters1.best[0], color='b', label='$\\mathbf{x}$: Newton-CG with GP d$^{2}$EI')\n",
        "    plt.legend(loc=1)\n",
        "    plt.xlabel(\"$\\mathbf{x}$\")\n",
        "    plt.ylabel(\"GP EI$(\\mathbf{x})$\")\n",
        "    title = 'GP EI'\n",
        "    plt.suptitle(title, weight = 'bold')\n",
        "\n",
        "    axins = inset_axes(ax, 1, 1, loc=7, bbox_to_anchor=(0.9, 0.45),bbox_transform=ax.figure.transFigure) # no zoom\n",
        "    axins.plot(x_test[0:], a[0:], color='r', label='GP EI$(\\mathbf{x})$: excl. Hessian')\n",
        "    axins.set_ylim(0.094, 0.095)\n",
        "    axins.set_xlim(1.52, 1.56) # Limit the region for zoom\n",
        "    plt.xlabel(\"$\\mathbf{x}$\")\n",
        "    plt.ylabel(\"GP EI$(\\mathbf{x})$\")\n",
        "    axins.set_autoscaley_on(True)\n",
        "    plt.axvline(gpgo_lbfgsb_iters1.best[0], color='g', label='$\\mathbf{x}$: L-BFGS-B without Hessian')\n",
        "    plt.axvline(gpgo_ncg_iters1.best[0], color='b', label='$\\mathbf{x}$: Newton-CG with GP d$^{2}$EI')\n",
        "    mark_inset(ax, axins, loc1=3, loc2=4, fc=\"none\", ec=\"0.9\")\n",
        "    plt.draw()\n",
        "    plt.show()\n",
        "    return max(a), min(a)\n",
        "\n",
        "plot_dGPGO(gpgo_ncg_iters, param, new=True)"
      ],
      "execution_count": null,
      "outputs": [
        {
          "output_type": "display_data",
          "data": {
            "image/png": "[encoded data removed]",
            "text/plain": [
              "<Figure size 504x360 with 2 Axes>"
            ]
          },
          "metadata": {
            "tags": [],
            "needs_background": "light"
          }
        },
        {
          "output_type": "execute_result",
          "data": {
            "text/plain": [
              "(0.09486104122635085, 0.0)"
            ]
          },
          "metadata": {
            "tags": []
          },
          "execution_count": 17
        }
      ]
    },
    {
      "cell_type": "code",
      "metadata": {
        "colab": {
          "base_uri": "https://localhost:8080/",
          "height": 454
        },
        "id": "MkvwnInvScLw",
        "outputId": "03990473-f668-4570-b8f3-d1e8215ed495"
      },
      "source": [
        "def plot_jacobian(gpgo_ncg, param, new):\n",
        "    plt.figure(figsize=[7,5])\n",
        "    x_test = np.linspace(lb, ub, n_test).reshape((n_test, 1))\n",
        "    jac = np.array([-gpgo_ncg_iters.func(np.atleast_1d(x))[1] for x in x_test]).flatten()\n",
        "    #acq = np.array([-gpgo_ncg_iters.func(np.atleast_1d(x))[0] for x in x_test]).flatten()\n",
        "    hess = np.array([-gpgo_ncg_iters.hessp_nonzero(np.atleast_1d(x), p=1)[0] for x in x_test]).flatten()\n",
        "    plt.plot(x_test, jac, color='r', label='GP dEI$(\\mathbf{x})$: exact GP EI Jacobian')\n",
        "    #plt.plot(x_test, acq, color='b', label='GP EI')\n",
        "    plt.plot(x_test, hess, color='b', label='GP d$^{2}$EI$(\\mathbf{x})$: exact GP EI Hessian')\n",
        "    plt.ylim(-50, 10)\n",
        "    plt.xlim(0, 2 * np.pi)\n",
        "    plt.legend(loc=0)\n",
        "    plt.xlabel(\"$\\mathbf{x}$\")\n",
        "    plt.ylabel(\"GP dEI$(\\mathbf{x})$, GP d$^{2}$EI$(\\mathbf{x})$\")\n",
        "    #plt.ylabel(\"GP d$^{2}$EI$(\\mathbf{x})$\")\n",
        "    title = 'GP EI'\n",
        "    plt.suptitle(title, weight = 'bold')    \n",
        "    plt.show()\n",
        "    return len(hess), min(hess), max(hess), min(jac), max(jac)\n",
        "  \n",
        "plot_jacobian(gpgo_ncg_iters, param, new=True)"
      ],
      "execution_count": null,
      "outputs": [
        {
          "output_type": "display_data",
          "data": {
            "image/png": "[encoded data removed]",
            "text/plain": [
              "<Figure size 504x360 with 1 Axes>"
            ]
          },
          "metadata": {
            "tags": [],
            "needs_background": "light"
          }
        },
        {
          "output_type": "execute_result",
          "data": {
            "text/plain": [
              "(250,\n",
              " -40.609488065370336,\n",
              " 0.0001717447117918859,\n",
              " -0.06757453840755086,\n",
              " 0.3029875722176886)"
            ]
          },
          "metadata": {
            "tags": []
          },
          "execution_count": 18
        }
      ]
    },
    {
      "cell_type": "code",
      "metadata": {
        "colab": {
          "base_uri": "https://localhost:8080/",
          "height": 350
        },
        "id": "DJDCKmCU61fn",
        "outputId": "3210ee8e-0081-489a-d213-b137fa2f8288"
      },
      "source": [
        "def plot_sine(gpgo, param, new=True):\n",
        "    x_test = np.linspace(lb, ub, n_test).reshape((n_test, 1))\n",
        "    y_hat, y_var = gpgo.GP.predict(x_test, return_std=True)\n",
        "    std = np.sqrt(y_var)\n",
        "    l, u = y_hat - 1.96 * std, y_hat + 1.96 * std # z-score, 95% confidence (two-tail)\n",
        "    colours = ['Post', 'Random']\n",
        "    if new:\n",
        "        plt.figure(figsize=[7,5])\n",
        "        plt.scatter(gpgo.GP.X, gpgo.GP.y, marker ='D', color = 'Red', label='Post-initialization ($\\mathbf{x}$, $y$)')\n",
        "        plt.scatter(gpgo.X, gpgo.y, marker ='D', color = 'Green', label='Random-initialization ($\\mathbf{x}$, $y$)')\n",
        "        plt.ylim(-2,2)\n",
        "        plt.xlim(0,2 * np.pi)\n",
        "        plt.plot(x_test.flatten(), y_hat, color = 'Yellow', label='$\\hat{\\mu}_{GP}(\\mathbf{x})$')\n",
        "        plt.plot(x_test.flatten(), np.sin(x_test.flatten()), color = 'Orange', label='True function: y = sin($\\mathbf{x}$)')\n",
        "        plt.fill_between(x_test.flatten(), l, u, alpha=0.2, label='95% C.I. for $\\mu_{GP}(\\mathbf{x})$')\n",
        "        title = 'Sine'\n",
        "        plt.title(title, weight = 'bold')\n",
        "        plt.xlabel(\"$\\mathbf{x}$\")\n",
        "        plt.ylabel(\"sin($\\mathbf{x}$)\")\n",
        "        plt.legend(loc=0)\n",
        "        plt.show()\n",
        "\n",
        "plot_sine(gpgo_ncg_iters1, param, new=True)"
      ],
      "execution_count": null,
      "outputs": [
        {
          "output_type": "display_data",
          "data": {
            "image/png": "[encoded data removed]",
            "text/plain": [
              "<Figure size 504x360 with 1 Axes>"
            ]
          },
          "metadata": {
            "tags": [],
            "needs_background": "light"
          }
        }
      ]
    },
    {
      "cell_type": "code",
      "metadata": {
        "id": "DE7aPWK5fk-V"
      },
      "source": [
        "y_global_opt = 1"
      ],
      "execution_count": null,
      "outputs": []
    },
    {
      "cell_type": "code",
      "metadata": {
        "colab": {
          "base_uri": "https://localhost:8080/"
        },
        "id": "kmu3t4arjB52",
        "outputId": "52de050f-32a2-48f0-8cda-06cf8620d4c0"
      },
      "source": [
        "gpgo_lbfgsb_iters1.tau, gpgo_ncg_iters1.tau"
      ],
      "execution_count": null,
      "outputs": [
        {
          "output_type": "execute_result",
          "data": {
            "text/plain": [
              "(0.9994071694940907, 0.9994740896626113)"
            ]
          },
          "metadata": {
            "tags": []
          },
          "execution_count": 21
        }
      ]
    },
    {
      "cell_type": "code",
      "metadata": {
        "colab": {
          "base_uri": "https://localhost:8080/"
        },
        "id": "p6wT36cSjcVe",
        "outputId": "9fcdce9a-a25f-4b40-febe-c2454730a168"
      },
      "source": [
        "gpgo_lbfgsb_iters1_regret = y_global_opt - gpgo_lbfgsb_iters1.tau\n",
        "gpgo_ncg_iters1_regret = y_global_opt - gpgo_ncg_iters1.tau\n",
        "\n",
        "gpgo_lbfgsb_iters1_regret, gpgo_ncg_iters1_regret"
      ],
      "execution_count": null,
      "outputs": [
        {
          "output_type": "execute_result",
          "data": {
            "text/plain": [
              "(0.0005928305059093031, 0.0005259103373886909)"
            ]
          },
          "metadata": {
            "tags": []
          },
          "execution_count": 22
        }
      ]
    },
    {
      "cell_type": "code",
      "metadata": {
        "id": "pC5kEFEqYxpD"
      },
      "source": [
        ""
      ],
      "execution_count": null,
      "outputs": []
    }
  ]
}